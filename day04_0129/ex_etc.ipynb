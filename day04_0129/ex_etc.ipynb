{
 "cells": [
  {
   "cell_type": "markdown",
   "id": "2b5b4bcd-0f12-4712-b921-92f63c2af62f",
   "metadata": {},
   "source": [
    "#### Jupyter Notebook 사용"
   ]
  },
  {
   "cell_type": "code",
   "execution_count": 3,
   "id": "ea56ed3e-38b8-4b04-b1eb-b6a674ec9e50",
   "metadata": {},
   "outputs": [
    {
     "data": {
      "text/plain": [
       "'C:\\\\Users\\\\kdp\\\\PycharmProjects\\\\PUBLIC DATA\\\\YSY_PUBLIC DATA\\\\day04_0129'"
      ]
     },
     "execution_count": 3,
     "metadata": {},
     "output_type": "execute_result"
    }
   ],
   "source": [
    "%pwd\n",
    "#현재 위치 보여줌"
   ]
  },
  {
   "cell_type": "code",
   "execution_count": 4,
   "id": "945ad650-986d-4e19-b361-d58ffa1a6df7",
   "metadata": {},
   "outputs": [
    {
     "name": "stdout",
     "output_type": "stream",
     "text": [
      " C 드라이브의 볼륨에는 이름이 없습니다.\n",
      " 볼륨 일련 번호: CE5B-1C1C\n",
      "\n",
      " C:\\Users\\kdp\\PycharmProjects\\PUBLIC DATA\\YSY_PUBLIC DATA\\day04_0129 디렉터리\n",
      "\n",
      "2024-01-29  오전 11:11    <DIR>          .\n",
      "2024-01-29  오전 09:06    <DIR>          ..\n",
      "2024-01-29  오전 11:11    <DIR>          .ipynb_checkpoints\n",
      "2024-01-29  오전 11:10            42,919 ex_01.ipynb\n",
      "2024-01-29  오전 10:11            15,108 ex_01_2.ipynb\n",
      "2024-01-29  오전 11:11                72 ex_etc.ipynb\n",
      "2024-01-29  오전 09:12            56,910 ㄱㅗㅇㄱㅗㅇㅂㅗㄱㅓㄴㅇㅢㄹㅛㄱㅣㄱㅘㄴㅎㅕㄴㅎㅘㅇ.csv\n",
      "2024-01-29  오전 09:12            17,225 ㅎㅐㅇㅈㅓㅇㄱㅜㅇㅕㄱㅅㅣㄱㅜㄴㄱㅜㅂㅕㄹㅅㅓㅇㅂㅕㄹㅇㅣㄴㄱㅜㅅㅜ.xlsx\n",
      "               5개 파일             132,234 바이트\n",
      "               3개 디렉터리  158,761,865,216 바이트 남음\n"
     ]
    }
   ],
   "source": [
    "%ls"
   ]
  },
  {
   "cell_type": "code",
   "execution_count": null,
   "id": "4e240ced-9a04-43ba-8ead-60a149f47ec7",
   "metadata": {},
   "outputs": [],
   "source": []
  }
 ],
 "metadata": {
  "kernelspec": {
   "display_name": "Python 3 (ipykernel)",
   "language": "python",
   "name": "python3"
  },
  "language_info": {
   "codemirror_mode": {
    "name": "ipython",
    "version": 3
   },
   "file_extension": ".py",
   "mimetype": "text/x-python",
   "name": "python",
   "nbconvert_exporter": "python",
   "pygments_lexer": "ipython3",
   "version": "3.8.18"
  }
 },
 "nbformat": 4,
 "nbformat_minor": 5
}
